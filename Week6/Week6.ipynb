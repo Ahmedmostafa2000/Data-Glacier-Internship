{
  "nbformat": 4,
  "nbformat_minor": 0,
  "metadata": {
    "colab": {
      "name": "Week6.ipynb",
      "provenance": []
    },
    "kernelspec": {
      "name": "python3",
      "display_name": "Python 3"
    },
    "language_info": {
      "name": "python"
    }
  },
  "cells": [
    {
      "cell_type": "code",
      "metadata": {
        "colab": {
          "base_uri": "https://localhost:8080/"
        },
        "id": "MDfLnDAzPtCK",
        "outputId": "28c8b247-3e93-4ecb-a54c-d16d4384232d"
      },
      "source": [
        "!pip install azureml-opendatasets"
      ],
      "execution_count": 2,
      "outputs": [
        {
          "output_type": "stream",
          "name": "stdout",
          "text": [
            "Collecting azureml-opendatasets\n",
            "  Downloading azureml_opendatasets-1.35.0-py3-none-any.whl (1.3 MB)\n",
            "\u001b[K     |████████████████████████████████| 1.3 MB 5.4 MB/s \n",
            "\u001b[?25hRequirement already satisfied: pandas<=2.0.0,>=0.21.0 in /usr/local/lib/python3.7/dist-packages (from azureml-opendatasets) (1.1.5)\n",
            "Collecting azureml-telemetry~=1.35.0\n",
            "  Downloading azureml_telemetry-1.35.0-py3-none-any.whl (30 kB)\n",
            "Requirement already satisfied: numpy<=2.0.0,>=1.16.0 in /usr/local/lib/python3.7/dist-packages (from azureml-opendatasets) (1.19.5)\n",
            "Requirement already satisfied: scipy<=2.0.0,>=1.0.0 in /usr/local/lib/python3.7/dist-packages (from azureml-opendatasets) (1.4.1)\n",
            "Collecting pyspark\n",
            "  Downloading pyspark-3.2.0.tar.gz (281.3 MB)\n",
            "\u001b[K     |████████████████████████████████| 281.3 MB 39 kB/s \n",
            "\u001b[?25hCollecting azureml-core~=1.35.0\n",
            "  Downloading azureml_core-1.35.0-py3-none-any.whl (2.2 MB)\n",
            "\u001b[K     |████████████████████████████████| 2.2 MB 34.8 MB/s \n",
            "\u001b[?25hRequirement already satisfied: pyarrow>=0.16.0 in /usr/local/lib/python3.7/dist-packages (from azureml-opendatasets) (3.0.0)\n",
            "Collecting azureml-dataset-runtime[fuse,pandas]~=1.35.0\n",
            "  Downloading azureml_dataset_runtime-1.35.0-py3-none-any.whl (3.5 kB)\n",
            "Collecting jmespath<1.0.0\n",
            "  Downloading jmespath-0.10.0-py2.py3-none-any.whl (24 kB)\n",
            "Collecting azure-mgmt-authorization<1.0.0,>=0.40.0\n",
            "  Downloading azure_mgmt_authorization-0.61.0-py2.py3-none-any.whl (94 kB)\n",
            "\u001b[K     |████████████████████████████████| 94 kB 2.6 MB/s \n",
            "\u001b[?25hCollecting azure-common<2.0.0,>=1.1.12\n",
            "  Downloading azure_common-1.1.27-py2.py3-none-any.whl (12 kB)\n",
            "Collecting adal<=1.2.7,>=1.2.0\n",
            "  Downloading adal-1.2.7-py2.py3-none-any.whl (55 kB)\n",
            "\u001b[K     |████████████████████████████████| 55 kB 3.0 MB/s \n",
            "\u001b[?25hCollecting cryptography!=1.9,!=2.0.*,!=2.1.*,!=2.2.*,<4.0.0\n",
            "  Downloading cryptography-3.4.8-cp36-abi3-manylinux_2_24_x86_64.whl (3.0 MB)\n",
            "\u001b[K     |████████████████████████████████| 3.0 MB 43.1 MB/s \n",
            "\u001b[?25hRequirement already satisfied: pytz in /usr/local/lib/python3.7/dist-packages (from azureml-core~=1.35.0->azureml-opendatasets) (2018.9)\n",
            "Collecting ndg-httpsclient<=0.5.1\n",
            "  Downloading ndg_httpsclient-0.5.1-py3-none-any.whl (34 kB)\n",
            "Collecting azure-mgmt-keyvault<10.0.0,>=0.40.0\n",
            "  Downloading azure_mgmt_keyvault-9.2.0-py2.py3-none-any.whl (412 kB)\n",
            "\u001b[K     |████████████████████████████████| 412 kB 45.5 MB/s \n",
            "\u001b[?25hRequirement already satisfied: urllib3<=1.26.6,>=1.23 in /usr/local/lib/python3.7/dist-packages (from azureml-core~=1.35.0->azureml-opendatasets) (1.24.3)\n",
            "Collecting pyopenssl<21.0.0\n",
            "  Downloading pyOpenSSL-20.0.1-py2.py3-none-any.whl (54 kB)\n",
            "\u001b[K     |████████████████████████████████| 54 kB 2.3 MB/s \n",
            "\u001b[?25hRequirement already satisfied: contextlib2<22.0.0 in /usr/local/lib/python3.7/dist-packages (from azureml-core~=1.35.0->azureml-opendatasets) (0.5.5)\n",
            "Collecting msrest<1.0.0,>=0.5.1\n",
            "  Downloading msrest-0.6.21-py2.py3-none-any.whl (85 kB)\n",
            "\u001b[K     |████████████████████████████████| 85 kB 3.4 MB/s \n",
            "\u001b[?25hRequirement already satisfied: requests<3.0.0,>=2.19.1 in /usr/local/lib/python3.7/dist-packages (from azureml-core~=1.35.0->azureml-opendatasets) (2.23.0)\n",
            "Collecting backports.tempfile\n",
            "  Downloading backports.tempfile-1.0-py2.py3-none-any.whl (4.4 kB)\n",
            "Collecting docker<6.0.0\n",
            "  Downloading docker-5.0.3-py2.py3-none-any.whl (146 kB)\n",
            "\u001b[K     |████████████████████████████████| 146 kB 48.9 MB/s \n",
            "\u001b[?25hCollecting jsonpickle<3.0.0\n",
            "  Downloading jsonpickle-2.0.0-py2.py3-none-any.whl (37 kB)\n",
            "Collecting azure-mgmt-resource<15.0.0,>=1.2.1\n",
            "  Downloading azure_mgmt_resource-13.0.0-py2.py3-none-any.whl (1.3 MB)\n",
            "\u001b[K     |████████████████████████████████| 1.3 MB 31.0 MB/s \n",
            "\u001b[?25hCollecting azure-mgmt-containerregistry>=2.0.0\n",
            "  Downloading azure_mgmt_containerregistry-8.2.0-py2.py3-none-any.whl (928 kB)\n",
            "\u001b[K     |████████████████████████████████| 928 kB 40.2 MB/s \n",
            "\u001b[?25hCollecting pathspec<1.0.0\n",
            "  Downloading pathspec-0.9.0-py2.py3-none-any.whl (31 kB)\n",
            "Collecting SecretStorage<4.0.0\n",
            "  Downloading SecretStorage-3.3.1-py3-none-any.whl (15 kB)\n",
            "Collecting PyJWT<3.0.0\n",
            "  Downloading PyJWT-2.3.0-py3-none-any.whl (16 kB)\n",
            "Collecting ruamel.yaml<=0.17.16,>=0.17.10\n",
            "  Downloading ruamel.yaml-0.17.16-py3-none-any.whl (109 kB)\n",
            "\u001b[K     |████████████████████████████████| 109 kB 56.7 MB/s \n",
            "\u001b[?25hCollecting azure-mgmt-storage<16.0.0,>=1.5.0\n",
            "  Downloading azure_mgmt_storage-11.2.0-py2.py3-none-any.whl (547 kB)\n",
            "\u001b[K     |████████████████████████████████| 547 kB 48.9 MB/s \n",
            "\u001b[?25hRequirement already satisfied: python-dateutil<3.0.0,>=2.7.3 in /usr/local/lib/python3.7/dist-packages (from azureml-core~=1.35.0->azureml-opendatasets) (2.8.2)\n",
            "Collecting msrestazure<=0.6.4,>=0.4.33\n",
            "  Downloading msrestazure-0.6.4-py2.py3-none-any.whl (40 kB)\n",
            "\u001b[K     |████████████████████████████████| 40 kB 4.3 MB/s \n",
            "\u001b[?25hCollecting azure-graphrbac<1.0.0,>=0.40.0\n",
            "  Downloading azure_graphrbac-0.61.1-py2.py3-none-any.whl (141 kB)\n",
            "\u001b[K     |████████████████████████████████| 141 kB 51.8 MB/s \n",
            "\u001b[?25hCollecting azure-mgmt-core<2.0.0,>=1.2.0\n",
            "  Downloading azure_mgmt_core-1.3.0-py2.py3-none-any.whl (25 kB)\n",
            "Collecting azure-core<2.0.0,>=1.15.0\n",
            "  Downloading azure_core-1.19.0-py2.py3-none-any.whl (176 kB)\n",
            "\u001b[K     |████████████████████████████████| 176 kB 43.3 MB/s \n",
            "\u001b[?25hRequirement already satisfied: six>=1.11.0 in /usr/local/lib/python3.7/dist-packages (from azure-core<2.0.0,>=1.15.0->azure-mgmt-core<2.0.0,>=1.2.0->azure-mgmt-containerregistry>=2.0.0->azureml-core~=1.35.0->azureml-opendatasets) (1.15.0)\n",
            "Collecting azureml-dataprep<2.24.0a,>=2.23.0a\n",
            "  Downloading azureml_dataprep-2.23.2-py3-none-any.whl (39.4 MB)\n",
            "\u001b[K     |████████████████████████████████| 39.4 MB 19 kB/s \n",
            "\u001b[?25hCollecting fusepy<4.0.0,>=3.0.1\n",
            "  Downloading fusepy-3.0.1.tar.gz (11 kB)\n",
            "Collecting azureml-dataprep-rslex~=1.21.0dev0\n",
            "  Downloading azureml_dataprep_rslex-1.21.2-cp37-cp37m-manylinux2010_x86_64.whl (13.0 MB)\n",
            "\u001b[K     |████████████████████████████████| 13.0 MB 48 kB/s \n",
            "\u001b[?25hCollecting azure-identity<1.5.0,>=1.2.0\n",
            "  Downloading azure_identity-1.4.1-py2.py3-none-any.whl (86 kB)\n",
            "\u001b[K     |████████████████████████████████| 86 kB 5.2 MB/s \n",
            "\u001b[?25hCollecting dotnetcore2<3.0.0,>=2.1.14\n",
            "  Downloading dotnetcore2-2.1.21-py3-none-manylinux1_x86_64.whl (28.7 MB)\n",
            "\u001b[K     |████████████████████████████████| 28.7 MB 48 kB/s \n",
            "\u001b[?25hRequirement already satisfied: cloudpickle<2.0.0,>=1.1.0 in /usr/local/lib/python3.7/dist-packages (from azureml-dataprep<2.24.0a,>=2.23.0a->azureml-dataset-runtime[fuse,pandas]~=1.35.0->azureml-opendatasets) (1.3.0)\n",
            "Collecting azureml-dataprep-native<39.0.0,>=38.0.0\n",
            "  Downloading azureml_dataprep_native-38.0.0-cp37-cp37m-manylinux1_x86_64.whl (1.3 MB)\n",
            "\u001b[K     |████████████████████████████████| 1.3 MB 33.0 MB/s \n",
            "\u001b[?25hCollecting msal-extensions~=0.2.2\n",
            "  Downloading msal_extensions-0.2.2-py2.py3-none-any.whl (15 kB)\n",
            "Collecting msal<2.0.0,>=1.3.0\n",
            "  Downloading msal-1.15.0-py2.py3-none-any.whl (77 kB)\n",
            "\u001b[K     |████████████████████████████████| 77 kB 5.4 MB/s \n",
            "\u001b[?25hCollecting applicationinsights\n",
            "  Downloading applicationinsights-0.11.10-py2.py3-none-any.whl (55 kB)\n",
            "\u001b[K     |████████████████████████████████| 55 kB 2.9 MB/s \n",
            "\u001b[?25hRequirement already satisfied: cffi>=1.12 in /usr/local/lib/python3.7/dist-packages (from cryptography!=1.9,!=2.0.*,!=2.1.*,!=2.2.*,<4.0.0->azureml-core~=1.35.0->azureml-opendatasets) (1.14.6)\n",
            "Requirement already satisfied: pycparser in /usr/local/lib/python3.7/dist-packages (from cffi>=1.12->cryptography!=1.9,!=2.0.*,!=2.1.*,!=2.2.*,<4.0.0->azureml-core~=1.35.0->azureml-opendatasets) (2.20)\n",
            "Collecting websocket-client>=0.32.0\n",
            "  Downloading websocket_client-1.2.1-py2.py3-none-any.whl (52 kB)\n",
            "\u001b[K     |████████████████████████████████| 52 kB 1.3 MB/s \n",
            "\u001b[?25hCollecting distro>=1.2.0\n",
            "  Downloading distro-1.6.0-py2.py3-none-any.whl (19 kB)\n",
            "Requirement already satisfied: importlib-metadata in /usr/local/lib/python3.7/dist-packages (from jsonpickle<3.0.0->azureml-core~=1.35.0->azureml-opendatasets) (4.8.1)\n",
            "Collecting portalocker~=1.0\n",
            "  Downloading portalocker-1.7.1-py2.py3-none-any.whl (10 kB)\n",
            "Requirement already satisfied: certifi>=2017.4.17 in /usr/local/lib/python3.7/dist-packages (from msrest<1.0.0,>=0.5.1->azureml-core~=1.35.0->azureml-opendatasets) (2021.5.30)\n",
            "Requirement already satisfied: requests-oauthlib>=0.5.0 in /usr/local/lib/python3.7/dist-packages (from msrest<1.0.0,>=0.5.1->azureml-core~=1.35.0->azureml-opendatasets) (1.3.0)\n",
            "Collecting isodate>=0.6.0\n",
            "  Downloading isodate-0.6.0-py2.py3-none-any.whl (45 kB)\n",
            "\u001b[K     |████████████████████████████████| 45 kB 3.2 MB/s \n",
            "\u001b[?25hRequirement already satisfied: pyasn1>=0.1.1 in /usr/local/lib/python3.7/dist-packages (from ndg-httpsclient<=0.5.1->azureml-core~=1.35.0->azureml-opendatasets) (0.4.8)\n",
            "Requirement already satisfied: idna<3,>=2.5 in /usr/local/lib/python3.7/dist-packages (from requests<3.0.0,>=2.19.1->azureml-core~=1.35.0->azureml-opendatasets) (2.10)\n",
            "Requirement already satisfied: chardet<4,>=3.0.2 in /usr/local/lib/python3.7/dist-packages (from requests<3.0.0,>=2.19.1->azureml-core~=1.35.0->azureml-opendatasets) (3.0.4)\n",
            "Requirement already satisfied: oauthlib>=3.0.0 in /usr/local/lib/python3.7/dist-packages (from requests-oauthlib>=0.5.0->msrest<1.0.0,>=0.5.1->azureml-core~=1.35.0->azureml-opendatasets) (3.1.1)\n",
            "Collecting ruamel.yaml.clib>=0.1.2\n",
            "  Downloading ruamel.yaml.clib-0.2.6-cp37-cp37m-manylinux1_x86_64.whl (546 kB)\n",
            "\u001b[K     |████████████████████████████████| 546 kB 37.9 MB/s \n",
            "\u001b[?25hCollecting jeepney>=0.6\n",
            "  Downloading jeepney-0.7.1-py3-none-any.whl (54 kB)\n",
            "\u001b[K     |████████████████████████████████| 54 kB 2.1 MB/s \n",
            "\u001b[?25hCollecting backports.weakref\n",
            "  Downloading backports.weakref-1.0.post1-py2.py3-none-any.whl (5.2 kB)\n",
            "Requirement already satisfied: typing-extensions>=3.6.4 in /usr/local/lib/python3.7/dist-packages (from importlib-metadata->jsonpickle<3.0.0->azureml-core~=1.35.0->azureml-opendatasets) (3.7.4.3)\n",
            "Requirement already satisfied: zipp>=0.5 in /usr/local/lib/python3.7/dist-packages (from importlib-metadata->jsonpickle<3.0.0->azureml-core~=1.35.0->azureml-opendatasets) (3.6.0)\n",
            "Collecting py4j==0.10.9.2\n",
            "  Downloading py4j-0.10.9.2-py2.py3-none-any.whl (198 kB)\n",
            "\u001b[K     |████████████████████████████████| 198 kB 48.2 MB/s \n",
            "\u001b[?25hBuilding wheels for collected packages: fusepy, pyspark\n",
            "  Building wheel for fusepy (setup.py) ... \u001b[?25l\u001b[?25hdone\n",
            "  Created wheel for fusepy: filename=fusepy-3.0.1-py3-none-any.whl size=10502 sha256=707e31b3aa7a4cd88f51e6808198b5c988a1e2c3d80970baf681157f092498a8\n",
            "  Stored in directory: /root/.cache/pip/wheels/89/07/84/a5ebfafeefbbc56ceda9d6935a54a8be7a4eccf4ea7e9bf980\n",
            "  Building wheel for pyspark (setup.py) ... \u001b[?25l\u001b[?25hdone\n",
            "  Created wheel for pyspark: filename=pyspark-3.2.0-py2.py3-none-any.whl size=281805912 sha256=a2bf7530761ba4bedb2bb709fcbd39c2d08564edef5fbc5feae8beafde90e942\n",
            "  Stored in directory: /root/.cache/pip/wheels/0b/de/d2/9be5d59d7331c6c2a7c1b6d1a4f463ce107332b1ecd4e80718\n",
            "Successfully built fusepy pyspark\n",
            "Installing collected packages: PyJWT, cryptography, portalocker, msal, isodate, msrest, msal-extensions, distro, azure-core, adal, websocket-client, ruamel.yaml.clib, pyopenssl, msrestazure, jeepney, dotnetcore2, backports.weakref, azureml-dataprep-rslex, azureml-dataprep-native, azure-mgmt-core, azure-identity, azure-common, SecretStorage, ruamel.yaml, pathspec, ndg-httpsclient, jsonpickle, jmespath, docker, backports.tempfile, azureml-dataprep, azure-mgmt-storage, azure-mgmt-resource, azure-mgmt-keyvault, azure-mgmt-containerregistry, azure-mgmt-authorization, azure-graphrbac, py4j, fusepy, azureml-dataset-runtime, azureml-core, applicationinsights, pyspark, azureml-telemetry, azureml-opendatasets\n",
            "Successfully installed PyJWT-2.3.0 SecretStorage-3.3.1 adal-1.2.7 applicationinsights-0.11.10 azure-common-1.1.27 azure-core-1.19.0 azure-graphrbac-0.61.1 azure-identity-1.4.1 azure-mgmt-authorization-0.61.0 azure-mgmt-containerregistry-8.2.0 azure-mgmt-core-1.3.0 azure-mgmt-keyvault-9.2.0 azure-mgmt-resource-13.0.0 azure-mgmt-storage-11.2.0 azureml-core-1.35.0 azureml-dataprep-2.23.2 azureml-dataprep-native-38.0.0 azureml-dataprep-rslex-1.21.2 azureml-dataset-runtime-1.35.0 azureml-opendatasets-1.35.0 azureml-telemetry-1.35.0 backports.tempfile-1.0 backports.weakref-1.0.post1 cryptography-3.4.8 distro-1.6.0 docker-5.0.3 dotnetcore2-2.1.21 fusepy-3.0.1 isodate-0.6.0 jeepney-0.7.1 jmespath-0.10.0 jsonpickle-2.0.0 msal-1.15.0 msal-extensions-0.2.2 msrest-0.6.21 msrestazure-0.6.4 ndg-httpsclient-0.5.1 pathspec-0.9.0 portalocker-1.7.1 py4j-0.10.9.2 pyopenssl-20.0.1 pyspark-3.2.0 ruamel.yaml-0.17.16 ruamel.yaml.clib-0.2.6 websocket-client-1.2.1\n"
          ]
        }
      ]
    },
    {
      "cell_type": "code",
      "metadata": {
        "colab": {
          "base_uri": "https://localhost:8080/"
        },
        "id": "-FjFMdvriwvq",
        "outputId": "8bfaf3b1-3940-4448-9731-75884832d05e"
      },
      "source": [
        "# This is a package in preview.\n",
        "from azureml.opendatasets import NycTlcGreen\n",
        "\n",
        "from datetime import datetime\n",
        "from dateutil import parser\n",
        "\n",
        "\n",
        "end_date = parser.parse('2018-06-06')\n",
        "start_date = parser.parse('2018-05-01')\n",
        "nyc_tlc = NycTlcGreen(start_date=start_date, end_date=end_date)\n",
        "nyc_tlc_df = nyc_tlc.to_pandas_dataframe()\n",
        "\n",
        "nyc_tlc_df.info()"
      ],
      "execution_count": 3,
      "outputs": [
        {
          "output_type": "stream",
          "name": "stdout",
          "text": [
            "[Info] read from /tmp/tmplprdhzdz/https%3A/%2Fazureopendatastorage.azurefd.net/nyctlc/green/puYear=2018/puMonth=5/part-00087-tid-4753095944193949832-fee7e113-666d-4114-9fcb-bcd3046479f3-2657-1.c000.snappy.parquet\n",
            "[Info] read from /tmp/tmplprdhzdz/https%3A/%2Fazureopendatastorage.azurefd.net/nyctlc/green/puYear=2018/puMonth=6/part-00171-tid-4753095944193949832-fee7e113-666d-4114-9fcb-bcd3046479f3-2741-1.c000.snappy.parquet\n",
            "<class 'pandas.core.frame.DataFrame'>\n",
            "Int64Index: 923257 entries, 0 to 598725\n",
            "Data columns (total 23 columns):\n",
            " #   Column                Non-Null Count   Dtype         \n",
            "---  ------                --------------   -----         \n",
            " 0   vendorID              923257 non-null  int32         \n",
            " 1   lpepPickupDatetime    923257 non-null  datetime64[ns]\n",
            " 2   lpepDropoffDatetime   923257 non-null  datetime64[ns]\n",
            " 3   passengerCount        923257 non-null  int32         \n",
            " 4   tripDistance          923257 non-null  float64       \n",
            " 5   puLocationId          923257 non-null  object        \n",
            " 6   doLocationId          923257 non-null  object        \n",
            " 7   pickupLongitude       0 non-null       float64       \n",
            " 8   pickupLatitude        0 non-null       float64       \n",
            " 9   dropoffLongitude      0 non-null       float64       \n",
            " 10  dropoffLatitude       0 non-null       float64       \n",
            " 11  rateCodeID            923257 non-null  int32         \n",
            " 12  storeAndFwdFlag       923257 non-null  object        \n",
            " 13  paymentType           923257 non-null  int32         \n",
            " 14  fareAmount            923257 non-null  float64       \n",
            " 15  extra                 923257 non-null  float64       \n",
            " 16  mtaTax                923257 non-null  float64       \n",
            " 17  improvementSurcharge  923257 non-null  object        \n",
            " 18  tipAmount             923257 non-null  float64       \n",
            " 19  tollsAmount           923257 non-null  float64       \n",
            " 20  ehailFee              0 non-null       float64       \n",
            " 21  totalAmount           923257 non-null  float64       \n",
            " 22  tripType              923257 non-null  int32         \n",
            "dtypes: datetime64[ns](2), float64(12), int32(5), object(4)\n",
            "memory usage: 151.4+ MB\n"
          ]
        }
      ]
    },
    {
      "cell_type": "code",
      "metadata": {
        "id": "FpfXXJK-kQ5C"
      },
      "source": [
        "df = nyc_tlc_df"
      ],
      "execution_count": 4,
      "outputs": []
    },
    {
      "cell_type": "code",
      "metadata": {
        "id": "vFjQG9n0lC8c"
      },
      "source": [
        "df = df.dropna(axis = 1)"
      ],
      "execution_count": 5,
      "outputs": []
    },
    {
      "cell_type": "code",
      "metadata": {
        "colab": {
          "base_uri": "https://localhost:8080/"
        },
        "id": "KqVHrZSIlOjS",
        "outputId": "85afe4df-881c-47a2-dc68-12d124a9624c"
      },
      "source": [
        "df.info()"
      ],
      "execution_count": 6,
      "outputs": [
        {
          "output_type": "stream",
          "name": "stdout",
          "text": [
            "<class 'pandas.core.frame.DataFrame'>\n",
            "Int64Index: 923257 entries, 0 to 598725\n",
            "Data columns (total 18 columns):\n",
            " #   Column                Non-Null Count   Dtype         \n",
            "---  ------                --------------   -----         \n",
            " 0   vendorID              923257 non-null  int32         \n",
            " 1   lpepPickupDatetime    923257 non-null  datetime64[ns]\n",
            " 2   lpepDropoffDatetime   923257 non-null  datetime64[ns]\n",
            " 3   passengerCount        923257 non-null  int32         \n",
            " 4   tripDistance          923257 non-null  float64       \n",
            " 5   puLocationId          923257 non-null  object        \n",
            " 6   doLocationId          923257 non-null  object        \n",
            " 7   rateCodeID            923257 non-null  int32         \n",
            " 8   storeAndFwdFlag       923257 non-null  object        \n",
            " 9   paymentType           923257 non-null  int32         \n",
            " 10  fareAmount            923257 non-null  float64       \n",
            " 11  extra                 923257 non-null  float64       \n",
            " 12  mtaTax                923257 non-null  float64       \n",
            " 13  improvementSurcharge  923257 non-null  object        \n",
            " 14  tipAmount             923257 non-null  float64       \n",
            " 15  tollsAmount           923257 non-null  float64       \n",
            " 16  totalAmount           923257 non-null  float64       \n",
            " 17  tripType              923257 non-null  int32         \n",
            "dtypes: datetime64[ns](2), float64(7), int32(5), object(4)\n",
            "memory usage: 116.2+ MB\n"
          ]
        }
      ]
    },
    {
      "cell_type": "code",
      "metadata": {
        "colab": {
          "base_uri": "https://localhost:8080/"
        },
        "id": "GJb2oXImpvm6",
        "outputId": "2e4f1981-07a1-45c1-b6f0-fd645b275779"
      },
      "source": [
        "df.columns"
      ],
      "execution_count": 7,
      "outputs": [
        {
          "output_type": "execute_result",
          "data": {
            "text/plain": [
              "Index(['vendorID', 'lpepPickupDatetime', 'lpepDropoffDatetime',\n",
              "       'passengerCount', 'tripDistance', 'puLocationId', 'doLocationId',\n",
              "       'rateCodeID', 'storeAndFwdFlag', 'paymentType', 'fareAmount', 'extra',\n",
              "       'mtaTax', 'improvementSurcharge', 'tipAmount', 'tollsAmount',\n",
              "       'totalAmount', 'tripType'],\n",
              "      dtype='object')"
            ]
          },
          "metadata": {},
          "execution_count": 7
        }
      ]
    },
    {
      "cell_type": "code",
      "metadata": {
        "id": "IfRon0MXpirq"
      },
      "source": [
        "df.to_csv(\"df.csv\")"
      ],
      "execution_count": 14,
      "outputs": []
    },
    {
      "cell_type": "code",
      "metadata": {
        "colab": {
          "base_uri": "https://localhost:8080/"
        },
        "id": "O6RoxoNAp1MY",
        "outputId": "7e84132e-4706-4f3a-ac1c-7e967a5923f4"
      },
      "source": [
        "for i in df.columns:\n",
        "  print(\"-\", i)"
      ],
      "execution_count": 9,
      "outputs": [
        {
          "output_type": "stream",
          "name": "stdout",
          "text": [
            "- vendorID\n",
            "- lpepPickupDatetime\n",
            "- lpepDropoffDatetime\n",
            "- passengerCount\n",
            "- tripDistance\n",
            "- puLocationId\n",
            "- doLocationId\n",
            "- rateCodeID\n",
            "- storeAndFwdFlag\n",
            "- paymentType\n",
            "- fareAmount\n",
            "- extra\n",
            "- mtaTax\n",
            "- improvementSurcharge\n",
            "- tipAmount\n",
            "- tollsAmount\n",
            "- totalAmount\n",
            "- tripType\n"
          ]
        }
      ]
    },
    {
      "cell_type": "code",
      "metadata": {
        "colab": {
          "base_uri": "https://localhost:8080/"
        },
        "id": "eLsAmw8MpnTC",
        "outputId": "f429f6f9-11f6-4b70-c852-db09e1468fe5"
      },
      "source": [
        "%%writefile data.yaml\n",
        "file_type: csv\n",
        "dataset_name: file\n",
        "file_name: df\n",
        "table_name: NycTlcGreen\n",
        "inbound_delimiter: ','\n",
        "skip_leading_rows: 1\n",
        "columns:\n",
        "    - vendorID\n",
        "    - lpepPickupDatetime\n",
        "    - lpepDropoffDatetime\n",
        "    - passengerCount\n",
        "    - tripDistance\n",
        "    - puLocationId\n",
        "    - doLocationId\n",
        "    - rateCodeID\n",
        "    - storeAndFwdFlag\n",
        "    - paymentType\n",
        "    - fareAmount\n",
        "    - extra\n",
        "    - mtaTax\n",
        "    - improvementSurcharge\n",
        "    - tipAmount\n",
        "    - tollsAmount\n",
        "    - totalAmount\n",
        "    - tripType"
      ],
      "execution_count": 10,
      "outputs": [
        {
          "output_type": "stream",
          "name": "stdout",
          "text": [
            "Writing data.yaml\n"
          ]
        }
      ]
    },
    {
      "cell_type": "code",
      "metadata": {
        "colab": {
          "base_uri": "https://localhost:8080/"
        },
        "id": "HGieOTpUQkXf",
        "outputId": "9c8cd483-79dd-4cb8-aa6f-58be70fbe4a1"
      },
      "source": [
        "from dask import dataframe as dd\n",
        "import time\n",
        "tik=time.time()\n",
        "df_dd=dd.read_csv('df.csv')\n",
        "tok=time.time()\n",
        "print(tok-tik)"
      ],
      "execution_count": 21,
      "outputs": [
        {
          "output_type": "stream",
          "name": "stdout",
          "text": [
            "0.031238555908203125\n"
          ]
        }
      ]
    },
    {
      "cell_type": "code",
      "metadata": {
        "colab": {
          "base_uri": "https://localhost:8080/"
        },
        "id": "gLeMHh8BRcxK",
        "outputId": "9fe120fd-93d7-48bd-df55-6b5d6cabaaf5"
      },
      "source": [
        "import pandas as pd\n",
        "tik=time.time()\n",
        "df_pd=pd.read_csv('df.csv')\n",
        "tok=time.time()\n",
        "print(tok-tik)"
      ],
      "execution_count": 23,
      "outputs": [
        {
          "output_type": "stream",
          "name": "stdout",
          "text": [
            "2.3972747325897217\n"
          ]
        }
      ]
    },
    {
      "cell_type": "code",
      "metadata": {
        "colab": {
          "base_uri": "https://localhost:8080/"
        },
        "id": "G3wTr7tjRKRz",
        "outputId": "00dde23b-23e5-4038-9b46-6f07c0b79102"
      },
      "source": [
        "!pip install dask"
      ],
      "execution_count": 17,
      "outputs": [
        {
          "output_type": "stream",
          "name": "stdout",
          "text": [
            "Requirement already satisfied: dask in /usr/local/lib/python3.7/dist-packages (2.12.0)\n"
          ]
        }
      ]
    },
    {
      "cell_type": "code",
      "metadata": {
        "colab": {
          "base_uri": "https://localhost:8080/"
        },
        "id": "skKAzS_QRSGr",
        "outputId": "cfe597a1-60af-428e-b1f3-f4236ef3d96c"
      },
      "source": [
        "!pip install fsspec "
      ],
      "execution_count": 19,
      "outputs": [
        {
          "output_type": "stream",
          "name": "stdout",
          "text": [
            "Collecting fsspec\n",
            "  Downloading fsspec-2021.10.1-py3-none-any.whl (125 kB)\n",
            "\u001b[?25l\r\u001b[K     |██▋                             | 10 kB 21.2 MB/s eta 0:00:01\r\u001b[K     |█████▏                          | 20 kB 25.7 MB/s eta 0:00:01\r\u001b[K     |███████▉                        | 30 kB 12.7 MB/s eta 0:00:01\r\u001b[K     |██████████▍                     | 40 kB 9.3 MB/s eta 0:00:01\r\u001b[K     |█████████████                   | 51 kB 5.2 MB/s eta 0:00:01\r\u001b[K     |███████████████▋                | 61 kB 5.6 MB/s eta 0:00:01\r\u001b[K     |██████████████████▎             | 71 kB 6.1 MB/s eta 0:00:01\r\u001b[K     |████████████████████▉           | 81 kB 6.8 MB/s eta 0:00:01\r\u001b[K     |███████████████████████▌        | 92 kB 6.3 MB/s eta 0:00:01\r\u001b[K     |██████████████████████████      | 102 kB 5.4 MB/s eta 0:00:01\r\u001b[K     |████████████████████████████▊   | 112 kB 5.4 MB/s eta 0:00:01\r\u001b[K     |███████████████████████████████▎| 122 kB 5.4 MB/s eta 0:00:01\r\u001b[K     |████████████████████████████████| 125 kB 5.4 MB/s \n",
            "\u001b[?25hInstalling collected packages: fsspec\n",
            "Successfully installed fsspec-2021.10.1\n"
          ]
        }
      ]
    },
    {
      "cell_type": "code",
      "metadata": {
        "colab": {
          "base_uri": "https://localhost:8080/",
          "height": 345
        },
        "id": "y9vi7DG_p7SS",
        "outputId": "9731d8db-7310-4dba-a28f-6073b7a21f50"
      },
      "source": [
        "#Reading Config File:\n",
        "import utility as util\n",
        "config_data=util.read_config_file('data.yaml')"
      ],
      "execution_count": 13,
      "outputs": [
        {
          "output_type": "error",
          "ename": "ModuleNotFoundError",
          "evalue": "ignored",
          "traceback": [
            "\u001b[0;31m---------------------------------------------------------------------------\u001b[0m",
            "\u001b[0;31mModuleNotFoundError\u001b[0m                       Traceback (most recent call last)",
            "\u001b[0;32m<ipython-input-13-b62a95fbcc6d>\u001b[0m in \u001b[0;36m<module>\u001b[0;34m()\u001b[0m\n\u001b[1;32m      1\u001b[0m \u001b[0;31m#Reading Config File:\u001b[0m\u001b[0;34m\u001b[0m\u001b[0;34m\u001b[0m\u001b[0;34m\u001b[0m\u001b[0m\n\u001b[0;32m----> 2\u001b[0;31m \u001b[0;32mimport\u001b[0m \u001b[0mutility\u001b[0m \u001b[0;32mas\u001b[0m \u001b[0mutil\u001b[0m\u001b[0;34m\u001b[0m\u001b[0;34m\u001b[0m\u001b[0m\n\u001b[0m\u001b[1;32m      3\u001b[0m \u001b[0mconfig_data\u001b[0m\u001b[0;34m=\u001b[0m\u001b[0mutil\u001b[0m\u001b[0;34m.\u001b[0m\u001b[0mread_config_file\u001b[0m\u001b[0;34m(\u001b[0m\u001b[0;34m'data.yaml'\u001b[0m\u001b[0;34m)\u001b[0m\u001b[0;34m\u001b[0m\u001b[0;34m\u001b[0m\u001b[0m\n",
            "\u001b[0;31mModuleNotFoundError\u001b[0m: No module named 'utility'",
            "",
            "\u001b[0;31m---------------------------------------------------------------------------\u001b[0;32m\nNOTE: If your import is failing due to a missing package, you can\nmanually install dependencies using either !pip or !apt.\n\nTo view examples of installing some common dependencies, click the\n\"Open Examples\" button below.\n\u001b[0;31m---------------------------------------------------------------------------\u001b[0m\n"
          ],
          "errorDetails": {
            "actions": [
              {
                "action": "open_url",
                "actionText": "Open Examples",
                "url": "/notebooks/snippets/importing_libraries.ipynb"
              }
            ]
          }
        }
      ]
    },
    {
      "cell_type": "code",
      "metadata": {
        "id": "7sDAU9HlqUem"
      },
      "source": [
        "!pip install utility"
      ],
      "execution_count": null,
      "outputs": []
    },
    {
      "cell_type": "code",
      "metadata": {
        "id": "_CUeCqtvqdo4"
      },
      "source": [
        ""
      ],
      "execution_count": null,
      "outputs": []
    }
  ]
}